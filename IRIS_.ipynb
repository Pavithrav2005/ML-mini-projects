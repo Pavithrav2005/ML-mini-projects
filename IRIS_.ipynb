{
  "nbformat": 4,
  "nbformat_minor": 0,
  "metadata": {
    "colab": {
      "provenance": []
    },
    "kernelspec": {
      "name": "python3",
      "display_name": "Python 3"
    },
    "language_info": {
      "name": "python"
    }
  },
  "cells": [
    {
      "cell_type": "code",
      "execution_count": 1,
      "metadata": {
        "colab": {
          "base_uri": "https://localhost:8080/"
        },
        "id": "wtSCmwObKq3y",
        "outputId": "8465b973-7ce4-4af7-8a17-1f0c277fe6cd"
      },
      "outputs": [
        {
          "output_type": "stream",
          "name": "stdout",
          "text": [
            "First 5 rows of normalized data:\n",
            " [[-0.90068117  1.01900435 -1.34022653 -1.3154443 ]\n",
            " [-1.14301691 -0.13197948 -1.34022653 -1.3154443 ]\n",
            " [-1.38535265  0.32841405 -1.39706395 -1.3154443 ]\n",
            " [-1.50652052  0.09821729 -1.2833891  -1.3154443 ]\n",
            " [-1.02184904  1.24920112 -1.34022653 -1.3154443 ]]\n"
          ]
        }
      ],
      "source": [
        "from sklearn.datasets import load_iris\n",
        "import pandas as pd\n",
        "from sklearn.preprocessing import StandardScaler\n",
        "\n",
        "# Load the Iris dataset\n",
        "iris = load_iris()\n",
        "data = iris.data  # Only the features, excluding labels\n",
        "df = pd.DataFrame(data, columns=iris.feature_names)\n",
        "\n",
        "# Normalize data using Z-score normalization\n",
        "scaler = StandardScaler()\n",
        "normalized_data = scaler.fit_transform(df)\n",
        "\n",
        "print(\"First 5 rows of normalized data:\\n\", normalized_data[:5])\n"
      ]
    },
    {
      "cell_type": "code",
      "source": [
        "z_scores = np.abs((normalized_data - normalized_data.mean(axis=0)) / normalized_data.std(axis=0))\n",
        "y_pred_z = np.where(np.any(z_scores > 3, axis=1), -1, 1)\n"
      ],
      "metadata": {
        "id": "edm7JHARKxv3"
      },
      "execution_count": 13,
      "outputs": []
    },
    {
      "cell_type": "code",
      "source": [
        "from scipy.spatial.distance import mahalanobis\n",
        "\n",
        "mean = np.mean(normalized_data, axis=0)\n",
        "cov_matrix = np.cov(normalized_data.T)\n",
        "inv_cov_matrix = np.linalg.inv(cov_matrix)\n",
        "\n",
        "mahalanobis_distances = [mahalanobis(x, mean, inv_cov_matrix) for x in normalized_data]\n",
        "threshold = np.percentile(mahalanobis_distances, 95)  # Top 5% are anomalies\n",
        "y_pred_maha = np.where(mahalanobis_distances > threshold, -1, 1)\n"
      ],
      "metadata": {
        "id": "7w9TVIPmK08e"
      },
      "execution_count": 14,
      "outputs": []
    },
    {
      "cell_type": "code",
      "source": [
        "from sklearn.neighbors import LocalOutlierFactor\n",
        "\n",
        "lof = LocalOutlierFactor(n_neighbors=20, contamination=0.05)\n",
        "y_pred_lof = lof.fit_predict(normalized_data)\n"
      ],
      "metadata": {
        "id": "YiCc7Z5QK3Cc"
      },
      "execution_count": 16,
      "outputs": []
    },
    {
      "cell_type": "code",
      "source": [
        "from sklearn.ensemble import IsolationForest\n",
        "\n",
        "isof = IsolationForest(contamination=0.05, random_state=42)\n",
        "y_pred_isof = isof.fit_predict(normalized_data)\n"
      ],
      "metadata": {
        "id": "O7ARdOaQK7Ed"
      },
      "execution_count": 17,
      "outputs": []
    },
    {
      "cell_type": "code",
      "source": [
        "from sklearn.svm import OneClassSVM\n",
        "\n",
        "oc_svm = OneClassSVM(kernel='rbf', nu=0.05)\n",
        "y_pred_ocsvm = oc_svm.fit_predict(normalized_data)\n"
      ],
      "metadata": {
        "id": "mCOfSgamK9NI"
      },
      "execution_count": 18,
      "outputs": []
    },
    {
      "cell_type": "code",
      "source": [
        "import matplotlib.pyplot as plt\n",
        "\n",
        "def plot_anomalies(method_name, outliers):\n",
        "    plt.scatter(normalized_data[:, 0], normalized_data[:, 1], label='Normal Data')\n",
        "    plt.scatter(normalized_data[outliers, 0], normalized_data[outliers, 1], color='r', label='Anomalies')\n",
        "    plt.title(f\"Anomalies detected by {method_name}\")\n",
        "    plt.legend()\n",
        "    plt.show()\n",
        "\n",
        "# Example visualization for Isolation Forest\n",
        "plot_anomalies(\"Isolation Forest\", outliers_isof[0])\n"
      ],
      "metadata": {
        "colab": {
          "base_uri": "https://localhost:8080/",
          "height": 452
        },
        "id": "5desaVU3LAFA",
        "outputId": "d738a901-3800-4bb3-8142-a05f5a3907a5"
      },
      "execution_count": 19,
      "outputs": [
        {
          "output_type": "display_data",
          "data": {
            "text/plain": [
              "<Figure size 640x480 with 1 Axes>"
            ],
            "image/png": "[encoded data removed]"
          },
          "metadata": {}
        }
      ]
    },
    {
      "cell_type": "code",
      "source": [
        "import numpy as np\n",
        "from sklearn.datasets import load_iris\n",
        "from sklearn.preprocessing import StandardScaler\n",
        "import pandas as pd\n",
        "\n",
        "# Load the Iris dataset\n",
        "iris = load_iris()\n",
        "data = iris.data\n",
        "df = pd.DataFrame(data, columns=iris.feature_names)\n",
        "\n",
        "# Inject synthetic anomalies (5 extreme data points)\n",
        "np.random.seed(42)\n",
        "outliers = np.random.uniform(low=5, high=10, size=(5, 4))  # Extreme values\n",
        "data_with_outliers = np.vstack([data, outliers])\n",
        "\n",
        "# Create ground truth: Normal (1) and Outlier (-1)\n",
        "y_true = np.ones(len(data_with_outliers))\n",
        "y_true[-5:] = -1  # Last 5 entries are synthetic outliers\n",
        "\n",
        "# Normalize the data using Z-score normalization\n",
        "scaler = StandardScaler()\n",
        "normalized_data = scaler.fit_transform(data_with_outliers)\n"
      ],
      "metadata": {
        "id": "bvRu4ggRLTiF"
      },
      "execution_count": 20,
      "outputs": []
    },
    {
      "cell_type": "code",
      "source": [
        "from sklearn.metrics import classification_report\n",
        "\n",
        "print(\"Z-score Classification Report:\\n\", classification_report(y_true, y_pred_z))\n",
        "print(\"Mahalanobis Classification Report:\\n\", classification_report(y_true, y_pred_maha))\n",
        "print(\"LOF Classification Report:\\n\", classification_report(y_true, y_pred_lof))\n",
        "print(\"Isolation Forest Classification Report:\\n\", classification_report(y_true, y_pred_isof))\n",
        "print(\"One-Class SVM Classification Report:\\n\", classification_report(y_true, y_pred_ocsvm))\n"
      ],
      "metadata": {
        "colab": {
          "base_uri": "https://localhost:8080/"
        },
        "id": "xme_4HJjLCae",
        "outputId": "4525dbf3-8aaa-4f0c-aae5-2ef05e67a999"
      },
      "execution_count": 21,
      "outputs": [
        {
          "output_type": "stream",
          "name": "stdout",
          "text": [
            "Z-score Classification Report:\n",
            "               precision    recall  f1-score   support\n",
            "\n",
            "        -1.0       1.00      1.00      1.00         5\n",
            "         1.0       1.00      1.00      1.00       150\n",
            "\n",
            "    accuracy                           1.00       155\n",
            "   macro avg       1.00      1.00      1.00       155\n",
            "weighted avg       1.00      1.00      1.00       155\n",
            "\n",
            "Mahalanobis Classification Report:\n",
            "               precision    recall  f1-score   support\n",
            "\n",
            "        -1.0       0.62      1.00      0.77         5\n",
            "         1.0       1.00      0.98      0.99       150\n",
            "\n",
            "    accuracy                           0.98       155\n",
            "   macro avg       0.81      0.99      0.88       155\n",
            "weighted avg       0.99      0.98      0.98       155\n",
            "\n",
            "LOF Classification Report:\n",
            "               precision    recall  f1-score   support\n",
            "\n",
            "        -1.0       0.62      1.00      0.77         5\n",
            "         1.0       1.00      0.98      0.99       150\n",
            "\n",
            "    accuracy                           0.98       155\n",
            "   macro avg       0.81      0.99      0.88       155\n",
            "weighted avg       0.99      0.98      0.98       155\n",
            "\n",
            "Isolation Forest Classification Report:\n",
            "               precision    recall  f1-score   support\n",
            "\n",
            "        -1.0       0.62      1.00      0.77         5\n",
            "         1.0       1.00      0.98      0.99       150\n",
            "\n",
            "    accuracy                           0.98       155\n",
            "   macro avg       0.81      0.99      0.88       155\n",
            "weighted avg       0.99      0.98      0.98       155\n",
            "\n",
            "One-Class SVM Classification Report:\n",
            "               precision    recall  f1-score   support\n",
            "\n",
            "        -1.0       0.40      0.40      0.40         5\n",
            "         1.0       0.98      0.98      0.98       150\n",
            "\n",
            "    accuracy                           0.96       155\n",
            "   macro avg       0.69      0.69      0.69       155\n",
            "weighted avg       0.96      0.96      0.96       155\n",
            "\n"
          ]
        }
      ]
    }
  ]
}